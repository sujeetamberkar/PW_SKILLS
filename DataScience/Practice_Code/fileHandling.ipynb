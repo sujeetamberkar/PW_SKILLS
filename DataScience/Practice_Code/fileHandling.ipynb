{
 "cells": [
  {
   "cell_type": "code",
   "execution_count": 1,
   "id": "aacce83a-425f-4e8a-b4de-5d4c718ba6a2",
   "metadata": {},
   "outputs": [],
   "source": [
    "f=open('inputText.txt','w')   ## W delete and write "
   ]
  },
  {
   "cell_type": "code",
   "execution_count": 2,
   "id": "339feb70-6297-4f41-849a-8bb7fb5118a4",
   "metadata": {},
   "outputs": [
    {
     "data": {
      "text/plain": [
       "10"
      ]
     },
     "execution_count": 2,
     "metadata": {},
     "output_type": "execute_result"
    }
   ],
   "source": [
    "f.write(\"First text\")"
   ]
  },
  {
   "cell_type": "code",
   "execution_count": 3,
   "id": "10b53c6a-f790-48db-a6f1-d12e5a090ea8",
   "metadata": {},
   "outputs": [],
   "source": [
    "f.close()"
   ]
  },
  {
   "cell_type": "code",
   "execution_count": 22,
   "id": "43d99394-6cee-4ede-a755-63f1b3bb5630",
   "metadata": {},
   "outputs": [],
   "source": [
    "f=open('inputText.txt','a')   ## W delete and write "
   ]
  },
  {
   "cell_type": "code",
   "execution_count": 23,
   "id": "71144c7b-9709-42fd-bad1-d285dd1d1579",
   "metadata": {},
   "outputs": [
    {
     "data": {
      "text/plain": [
       "3"
      ]
     },
     "execution_count": 23,
     "metadata": {},
     "output_type": "execute_result"
    }
   ],
   "source": [
    "f.write(\"Hey\")"
   ]
  },
  {
   "cell_type": "code",
   "execution_count": 24,
   "id": "1a826bc4-0bc2-4bcd-ad65-d0beb5bb6c22",
   "metadata": {},
   "outputs": [],
   "source": [
    "f.close()"
   ]
  },
  {
   "cell_type": "code",
   "execution_count": 8,
   "id": "3bdc9980-415f-4023-81da-409dbb01e6f4",
   "metadata": {},
   "outputs": [],
   "source": [
    "f=open(\"inputText.txt\",'r')"
   ]
  },
  {
   "cell_type": "code",
   "execution_count": 9,
   "id": "ad804336-c58c-4635-80c8-e38353fd3882",
   "metadata": {},
   "outputs": [
    {
     "data": {
      "text/plain": [
       "'First textHey'"
      ]
     },
     "execution_count": 9,
     "metadata": {},
     "output_type": "execute_result"
    }
   ],
   "source": [
    "f.read()"
   ]
  },
  {
   "cell_type": "code",
   "execution_count": 11,
   "id": "f1bd6a7c-48b3-4e6d-8418-5d8172a27c29",
   "metadata": {},
   "outputs": [
    {
     "data": {
      "text/plain": [
       "''"
      ]
     },
     "execution_count": 11,
     "metadata": {},
     "output_type": "execute_result"
    }
   ],
   "source": [
    "f.readline()"
   ]
  },
  {
   "cell_type": "code",
   "execution_count": 13,
   "id": "b5b0b76d-65ce-42e8-9319-04401673cde6",
   "metadata": {},
   "outputs": [
    {
     "data": {
      "text/plain": [
       "0"
      ]
     },
     "execution_count": 13,
     "metadata": {},
     "output_type": "execute_result"
    }
   ],
   "source": [
    "f.seek(0)"
   ]
  },
  {
   "cell_type": "code",
   "execution_count": 17,
   "id": "05f4c06a-0cb3-4f54-9383-9778af137a71",
   "metadata": {},
   "outputs": [
    {
     "data": {
      "text/plain": [
       "0"
      ]
     },
     "execution_count": 17,
     "metadata": {},
     "output_type": "execute_result"
    }
   ],
   "source": [
    "f.readline()\n",
    "f.seek(0)"
   ]
  },
  {
   "cell_type": "code",
   "execution_count": 18,
   "id": "bdb8c101-af3a-4da8-b596-da3d7e6db3bc",
   "metadata": {},
   "outputs": [
    {
     "name": "stdout",
     "output_type": "stream",
     "text": [
      "First textHey\n"
     ]
    }
   ],
   "source": [
    "for i in f:\n",
    "    print (i)"
   ]
  },
  {
   "cell_type": "code",
   "execution_count": 19,
   "id": "d593394d-6b47-4fab-aa32-411e3b5a6687",
   "metadata": {},
   "outputs": [],
   "source": [
    "import os"
   ]
  },
  {
   "cell_type": "code",
   "execution_count": 20,
   "id": "670c699d-56d6-4ab8-bc91-31b2187fc082",
   "metadata": {},
   "outputs": [
    {
     "data": {
      "text/plain": [
       "13"
      ]
     },
     "execution_count": 20,
     "metadata": {},
     "output_type": "execute_result"
    }
   ],
   "source": [
    "os.path.getsize(\"inputText.txt\")"
   ]
  },
  {
   "cell_type": "code",
   "execution_count": 21,
   "id": "fa980003-9f68-4f0a-ac67-f061846a6f04",
   "metadata": {},
   "outputs": [],
   "source": [
    "os.remove(\"inputText.txt\")"
   ]
  },
  {
   "cell_type": "code",
   "execution_count": 25,
   "id": "b214d526-3abb-49f2-90d9-378b0cdf7b54",
   "metadata": {},
   "outputs": [],
   "source": [
    "os.rename(\"inputText.txt\",\"Input.txt\")"
   ]
  },
  {
   "cell_type": "code",
   "execution_count": 7,
   "id": "d8a95295-83aa-4e4f-b308-b2df726169bf",
   "metadata": {},
   "outputs": [
    {
     "data": {
      "text/plain": [
       "'new.txt'"
      ]
     },
     "execution_count": 7,
     "metadata": {},
     "output_type": "execute_result"
    }
   ],
   "source": [
    "import shutil\n",
    "shutil.copy(\"Input.txt\",\"new.txt\")"
   ]
  },
  {
   "cell_type": "code",
   "execution_count": 8,
   "id": "5e416a10-0abf-48aa-8669-dff6f2a4b132",
   "metadata": {},
   "outputs": [
    {
     "name": "stdout",
     "output_type": "stream",
     "text": [
      "Hey\n"
     ]
    }
   ],
   "source": [
    "with open(\"new.txt\",\"r\") as f:\n",
    "    print(f.read())"
   ]
  },
  {
   "cell_type": "code",
   "execution_count": 12,
   "id": "8503c76f-a700-4a39-b1ab-5b9c761777eb",
   "metadata": {},
   "outputs": [],
   "source": [
    "data={\n",
    "       \"name\":\"Sujeet\",\n",
    "        \"mail_id\":\"sujeet.amberkar@gmail.com\",\n",
    "        \"phone_no\":\"7021041478\",\n",
    "        \"Courses\":[\"Data Science\",\"Web Dev\",\"Crypto\"]\n",
    "}\n",
    "\n",
    "\n",
    "# Read and write dict\n",
    "import json\n",
    "with open ('data.json','w') as f:\n",
    "    json.dump(data,f)"
   ]
  },
  {
   "cell_type": "code",
   "execution_count": 14,
   "id": "c6c4c280-0850-44e7-a102-01bf2fec63b5",
   "metadata": {},
   "outputs": [
    {
     "data": {
      "text/plain": [
       "{'name': 'Sujeet',\n",
       " 'mail_id': 'sujeet.amberkar@gmail.com',\n",
       " 'phone_no': '7021041478',\n",
       " 'Courses': ['Data Science', 'Web Dev', 'Crypto']}"
      ]
     },
     "execution_count": 14,
     "metadata": {},
     "output_type": "execute_result"
    }
   ],
   "source": [
    "with open('data.json','r') as f:\n",
    "    data1=json.load(f)\n",
    "data1"
   ]
  },
  {
   "cell_type": "code",
   "execution_count": 16,
   "id": "1354b160-1384-4593-829d-c7cb52b7d484",
   "metadata": {},
   "outputs": [],
   "source": [
    "############\n",
    "############### CSV file     ####\n",
    "\n",
    "import csv\n",
    "data=[[\"name\",\"emailId\",\"Phone Number\"],\n",
    "        [\"Sujeet\",\"sujeet.amberkar@gmail.com\",\"7021041478\"],\n",
    "     [\"Abhishek\",\"abhi@jawa\",\"697846215\"]]"
   ]
  },
  {
   "cell_type": "code",
   "execution_count": 17,
   "id": "b6cf1734-f17e-4d4f-98c3-7c390eea7edd",
   "metadata": {},
   "outputs": [],
   "source": [
    "with open (\"data.csv\",'w') as f:\n",
    "    writer=csv.writer(f)\n",
    "    for i in data:\n",
    "        writer.writerow(i)"
   ]
  },
  {
   "cell_type": "code",
   "execution_count": 20,
   "id": "dd29e118-e0b2-4a08-a28f-3ee1bb970c58",
   "metadata": {},
   "outputs": [
    {
     "name": "stdout",
     "output_type": "stream",
     "text": [
      "['name', 'emailId', 'Phone Number']\n",
      "['Sujeet', 'sujeet.amberkar@gmail.com', '7021041478']\n",
      "['Abhishek', 'abhi@jawa', '697846215']\n"
     ]
    }
   ],
   "source": [
    "with open(\"data.csv\",'r')as f:\n",
    "    read_data=csv.reader(f)\n",
    "    for i in read_data:\n",
    "        print(i)"
   ]
  },
  {
   "cell_type": "code",
   "execution_count": 21,
   "id": "0a72b916-c38a-4239-8fd7-84875da30208",
   "metadata": {},
   "outputs": [],
   "source": [
    "########## Binnary data ###########\n",
    "with open(\"test4.bin\",'wb') as f:\n",
    "    f.write(b\"\\x01\\x03\")"
   ]
  },
  {
   "cell_type": "code",
   "execution_count": 22,
   "id": "0cdc73de-ea7d-4b20-bf16-dca94054c5f8",
   "metadata": {},
   "outputs": [
    {
     "name": "stdout",
     "output_type": "stream",
     "text": [
      "b'\\x01\\x03'\n"
     ]
    }
   ],
   "source": [
    "with open(\"test4.bin\",'rb') as f:\n",
    "    print (f.read())"
   ]
  },
  {
   "cell_type": "code",
   "execution_count": null,
   "id": "36d85cd2-09c0-42e5-8dc4-8193ff5bd513",
   "metadata": {},
   "outputs": [],
   "source": []
  }
 ],
 "metadata": {
  "kernelspec": {
   "display_name": "Python 3 (ipykernel)",
   "language": "python",
   "name": "python3"
  },
  "language_info": {
   "codemirror_mode": {
    "name": "ipython",
    "version": 3
   },
   "file_extension": ".py",
   "mimetype": "text/x-python",
   "name": "python",
   "nbconvert_exporter": "python",
   "pygments_lexer": "ipython3",
   "version": "3.10.8"
  }
 },
 "nbformat": 4,
 "nbformat_minor": 5
}
