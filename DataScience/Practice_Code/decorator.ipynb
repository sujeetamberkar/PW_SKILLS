{
 "cells": [
  {
   "cell_type": "code",
   "execution_count": 1,
   "id": "7d3431b0-1d80-46d5-b1c6-bc6f4e8c9ab5",
   "metadata": {},
   "outputs": [],
   "source": [
    "def test():\n",
    "    print(\"This is start of my function\")\n",
    "    print(\"This is fun function\")\n",
    "    print(\"This is end of function\")"
   ]
  },
  {
   "cell_type": "code",
   "execution_count": 2,
   "id": "e7eded83-8a75-4f63-99ec-ab104e986670",
   "metadata": {},
   "outputs": [
    {
     "name": "stdout",
     "output_type": "stream",
     "text": [
      "This is start of my function\n",
      "This is fun function\n",
      "This is end of function\n"
     ]
    }
   ],
   "source": [
    "test()"
   ]
  },
  {
   "cell_type": "code",
   "execution_count": 4,
   "id": "7b5a2583-8fba-4a52-bb3c-c11aa4f8b434",
   "metadata": {},
   "outputs": [],
   "source": [
    "def deco(func):\n",
    "    def inner_decorate():\n",
    "            print(\"This is start of my function\")\n",
    "            func()\n",
    "            print(\"This is end of function\")\n",
    "    return inner_decorate\n",
    "        "
   ]
  },
  {
   "cell_type": "code",
   "execution_count": 7,
   "id": "c7771e0d-da5b-41cf-853a-0cdf867711ad",
   "metadata": {},
   "outputs": [
    {
     "name": "stdout",
     "output_type": "stream",
     "text": [
      "13\n"
     ]
    }
   ],
   "source": [
    "def test1():\n",
    "    print (6+7)\n",
    "test1()"
   ]
  },
  {
   "cell_type": "code",
   "execution_count": 11,
   "id": "7abbaa61-225c-4751-b484-3bb52761b99a",
   "metadata": {},
   "outputs": [
    {
     "name": "stdout",
     "output_type": "stream",
     "text": [
      "This is start of my function\n",
      "7\n",
      "This is end of function\n"
     ]
    }
   ],
   "source": [
    "@deco\n",
    "def test2():\n",
    "    print( 4+3)\n",
    "\n",
    "test2()"
   ]
  },
  {
   "cell_type": "code",
   "execution_count": 12,
   "id": "ad64cdc4-5ef7-405a-ba58-a710ae856279",
   "metadata": {},
   "outputs": [],
   "source": [
    "######################     FInd time  required to execute a function #############\n"
   ]
  },
  {
   "cell_type": "code",
   "execution_count": 14,
   "id": "b907615e-7600-46d8-9a5e-a7ef9b25708f",
   "metadata": {},
   "outputs": [],
   "source": [
    "import time\n",
    "def timmer(test):\n",
    "    def inner_timmer_test():\n",
    "        start=time.time()\n",
    "        test()\n",
    "        end=time.time()\n",
    "        print(end-start)\n",
    "    return inner_timmer_test"
   ]
  },
  {
   "cell_type": "code",
   "execution_count": 16,
   "id": "f1605739-cf44-43af-806b-baf800501101",
   "metadata": {},
   "outputs": [
    {
     "name": "stdout",
     "output_type": "stream",
     "text": [
      "20\n"
     ]
    }
   ],
   "source": [
    "def test4():\n",
    "    print(10+10)\n",
    "test4()"
   ]
  },
  {
   "cell_type": "code",
   "execution_count": null,
   "id": "a5b580e2-4539-421c-a8b7-c76072b318ed",
   "metadata": {},
   "outputs": [],
   "source": []
  },
  {
   "cell_type": "code",
   "execution_count": 17,
   "id": "dbd20b22-0f51-43d1-807f-7d35e507c932",
   "metadata": {},
   "outputs": [
    {
     "name": "stdout",
     "output_type": "stream",
     "text": [
      "20\n",
      "5.817413330078125e-05\n"
     ]
    }
   ],
   "source": [
    "@timmer\n",
    "def test4():\n",
    "    print(10+10)\n",
    "test4()"
   ]
  },
  {
   "cell_type": "code",
   "execution_count": null,
   "id": "815371ed-2f99-4135-8472-3d392a532c4c",
   "metadata": {},
   "outputs": [],
   "source": []
  }
 ],
 "metadata": {
  "kernelspec": {
   "display_name": "Python 3 (ipykernel)",
   "language": "python",
   "name": "python3"
  },
  "language_info": {
   "codemirror_mode": {
    "name": "ipython",
    "version": 3
   },
   "file_extension": ".py",
   "mimetype": "text/x-python",
   "name": "python",
   "nbconvert_exporter": "python",
   "pygments_lexer": "ipython3",
   "version": "3.10.8"
  }
 },
 "nbformat": 4,
 "nbformat_minor": 5
}
