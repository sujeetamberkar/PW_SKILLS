{
 "cells": [
  {
   "cell_type": "code",
   "execution_count": 1,
   "id": "f78f8ff2-3e21-4001-a4d9-9d5cbe3de1d8",
   "metadata": {},
   "outputs": [
    {
     "data": {
      "text/plain": [
       "'Hi'"
      ]
     },
     "execution_count": 2,
     "metadata": {},
     "output_type": "execute_result"
    }
   ],
   "source": [
    "def function():\n",
    "    print('This is my first function')\n",
    "    \n",
    "function()"
   ]
  },
  {
   "cell_type": "code",
   "execution_count": 4,
   "id": "83d565dc-05d1-4f39-8ab8-c08f6031cfd0",
   "metadata": {},
   "outputs": [
    {
     "data": {
      "text/plain": [
       "'HiThis is my first return '"
      ]
     },
     "execution_count": 4,
     "metadata": {},
     "output_type": "execute_result"
    }
   ],
   "source": [
    "def function2():\n",
    "    return('Hi ')\n",
    "    \n",
    "function2() + \"This is my first return \""
   ]
  },
  {
   "cell_type": "code",
   "execution_count": 8,
   "id": "05fb695b-cc25-4189-9470-daf11d41af0a",
   "metadata": {},
   "outputs": [
    {
     "name": "stdout",
     "output_type": "stream",
     "text": [
      "1 2.3 string (3+4j)\n"
     ]
    }
   ],
   "source": [
    "def return_multipleData():\n",
    "    return 1,2.3,'string',3+4j\n",
    "\n",
    "a,b,c,d=return_multipleData()\n",
    "print(a,b,c,d)"
   ]
  },
  {
   "cell_type": "code",
   "execution_count": 9,
   "id": "4abbd3ee-1cad-4a39-946e-4eb4ae4a4480",
   "metadata": {},
   "outputs": [
    {
     "data": {
      "text/plain": [
       "6"
      ]
     },
     "execution_count": 9,
     "metadata": {},
     "output_type": "execute_result"
    }
   ],
   "source": [
    "def test4():\n",
    "    a=4+7//3\n",
    "    return a\n",
    "test4()"
   ]
  },
  {
   "cell_type": "code",
   "execution_count": 13,
   "id": "b63ddcf7-57a1-4b7d-b169-0182026261a5",
   "metadata": {},
   "outputs": [
    {
     "data": {
      "text/plain": [
       "5"
      ]
     },
     "execution_count": 13,
     "metadata": {},
     "output_type": "execute_result"
    }
   ],
   "source": [
    "def takingArguments(a,b):\n",
    "    sum=a+b\n",
    "    return sum\n",
    "takingArguments(2,3)\n"
   ]
  },
  {
   "cell_type": "code",
   "execution_count": 14,
   "id": "426052b3-23a0-458b-b341-bb7061112e3e",
   "metadata": {},
   "outputs": [
    {
     "data": {
      "text/plain": [
       "'SujeetAmberkar'"
      ]
     },
     "execution_count": 14,
     "metadata": {},
     "output_type": "execute_result"
    }
   ],
   "source": [
    "takingArguments('Sujeet','Amberkar')\n"
   ]
  },
  {
   "cell_type": "code",
   "execution_count": 15,
   "id": "93ccfbb5-474b-40a3-89e6-9e95569bc6f7",
   "metadata": {},
   "outputs": [
    {
     "data": {
      "text/plain": [
       "[1, 2]"
      ]
     },
     "execution_count": 15,
     "metadata": {},
     "output_type": "execute_result"
    }
   ],
   "source": [
    "def return_Intlist(a):\n",
    "    tempList=[]\n",
    "    for i in a:\n",
    "        if type(i) == int:\n",
    "            tempList.append(i)\n",
    "    return tempList\n",
    "\n",
    "li=[1,2,3.4,\"Sujeet\"]\n",
    "return_Intlist(li)"
   ]
  },
  {
   "cell_type": "code",
   "execution_count": 17,
   "id": "ce11217d-3047-4c05-b0ce-b23163bca62e",
   "metadata": {},
   "outputs": [
    {
     "data": {
      "text/plain": [
       "[5, 6, 7]"
      ]
     },
     "execution_count": 17,
     "metadata": {},
     "output_type": "execute_result"
    }
   ],
   "source": [
    "def return_int_NestedList(a):\n",
    "    \"\"\" This is function to return int from a nested list \"\"\"\n",
    "        #Dockstring\n",
    "\n",
    "    tempList=[]\n",
    "    for i in a:\n",
    "        if type (i) == list:\n",
    "            for k in i:\n",
    "                if type(k) == int:\n",
    "                    tempList.append(k)\n",
    "    return tempList\n",
    "\n",
    "list1=[1,2,3,4,[5,6,7]]\n",
    "return_int_NestedList(list1)\n",
    "    \n",
    "    "
   ]
  },
  {
   "cell_type": "code",
   "execution_count": 24,
   "id": "0cd9f182-044b-44fd-a60c-e3511262a9f5",
   "metadata": {},
   "outputs": [
    {
     "name": "stdout",
     "output_type": "stream",
     "text": [
      "<class 'tuple'>\n",
      "(1, 2, 3, 4, 4.5)\n"
     ]
    }
   ],
   "source": [
    "def multiplearguments(*args):\n",
    "    return args\n",
    "\n",
    "\n",
    "print(type(multiplearguments(1,2,3,4,4.5)))\n",
    "print(multiplearguments(1,2,3,4,4.5))"
   ]
  },
  {
   "cell_type": "code",
   "execution_count": 28,
   "id": "1bb2e2cf-4118-4a15-939a-cc3b7ec84d4b",
   "metadata": {},
   "outputs": [
    {
     "data": {
      "text/plain": [
       "(((1, 2, 3, 4, 4.5),), 4)"
      ]
     },
     "execution_count": 28,
     "metadata": {},
     "output_type": "execute_result"
    }
   ],
   "source": [
    "def multiplearguments2(*args,a):\n",
    "    return args,a\n",
    "\n",
    "\n",
    "multiplearguments2((1,2,3,4,4.5),a=4)"
   ]
  },
  {
   "cell_type": "code",
   "execution_count": 33,
   "id": "f21879fe-d72f-4d28-9d67-b868eda8d437",
   "metadata": {},
   "outputs": [
    {
     "data": {
      "text/plain": [
       "(3, 4, 10, 20)"
      ]
     },
     "execution_count": 33,
     "metadata": {},
     "output_type": "execute_result"
    }
   ],
   "source": [
    "def defaultParameters(a,b,c=10,d=20):\n",
    "    return a,b,c,d\n",
    "defaultParameters(3,4)"
   ]
  },
  {
   "cell_type": "code",
   "execution_count": 35,
   "id": "f8c148c2-f890-4455-bcdf-065755cc55af",
   "metadata": {},
   "outputs": [
    {
     "data": {
      "text/plain": [
       "(1, 2, 3, 4)"
      ]
     },
     "execution_count": 35,
     "metadata": {},
     "output_type": "execute_result"
    }
   ],
   "source": [
    "defaultParameters(1,2,3,4) #OverWrite"
   ]
  },
  {
   "cell_type": "code",
   "execution_count": 36,
   "id": "31ff8de4-a7bc-49d7-b21e-a7e62f91188f",
   "metadata": {},
   "outputs": [
    {
     "data": {
      "text/plain": [
       "{'a': [1, 2, 3, 4], 'b': 'Sujeet'}"
      ]
     },
     "execution_count": 36,
     "metadata": {},
     "output_type": "execute_result"
    }
   ],
   "source": [
    "def return_dict (**kwargs):\n",
    "    return kwargs\n",
    "\n",
    "return_dict(a=[1,2,3,4],b='Sujeet')"
   ]
  },
  {
   "cell_type": "code",
   "execution_count": null,
   "id": "97cd800c-0ba7-44b9-a091-7929c4269cdb",
   "metadata": {},
   "outputs": [],
   "source": []
  }
 ],
 "metadata": {
  "kernelspec": {
   "display_name": "Python 3 (ipykernel)",
   "language": "python",
   "name": "python3"
  },
  "language_info": {
   "codemirror_mode": {
    "name": "ipython",
    "version": 3
   },
   "file_extension": ".py",
   "mimetype": "text/x-python",
   "name": "python",
   "nbconvert_exporter": "python",
   "pygments_lexer": "ipython3",
   "version": "3.10.8"
  }
 },
 "nbformat": 4,
 "nbformat_minor": 5
}
