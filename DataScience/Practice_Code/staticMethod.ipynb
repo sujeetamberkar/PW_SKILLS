{
 "cells": [
  {
   "cell_type": "code",
   "execution_count": 3,
   "id": "2dc6a7ad-41fe-45e2-917d-59a82713fd16",
   "metadata": {},
   "outputs": [],
   "source": [
    "class pwskills:\n",
    "    def student_details(self,name,mail_id,number):\n",
    "        print(name,mail_id,number)\n",
    "        "
   ]
  },
  {
   "cell_type": "code",
   "execution_count": 10,
   "id": "dbb9c616-d7ac-4065-8813-31cb1ce39f59",
   "metadata": {},
   "outputs": [],
   "source": [
    "pw=pwskills()"
   ]
  },
  {
   "cell_type": "code",
   "execution_count": 11,
   "id": "ed80b5b5-2d10-4ce7-8850-fa322209c6ac",
   "metadata": {},
   "outputs": [
    {
     "name": "stdout",
     "output_type": "stream",
     "text": [
      "Sujeet sujeet.amberkar@gmail.com 7021041478\n"
     ]
    }
   ],
   "source": [
    "pw.student_details(\"Sujeet\",\"sujeet.amberkar@gmail.com\",7021041478)"
   ]
  },
  {
   "cell_type": "code",
   "execution_count": 14,
   "id": "739bac68-b643-4c37-a81a-46fb86b39ba6",
   "metadata": {},
   "outputs": [],
   "source": [
    "class pwskills1:\n",
    "    def student_details(self,name,mail_id,number):\n",
    "        print(name,mail_id,number)\n",
    "    @staticmethod   ### When you think you should not need to create new instance every time\n",
    "    def mentor_class(list_mentors):\n",
    "        print(list_mentors)"
   ]
  },
  {
   "cell_type": "code",
   "execution_count": 15,
   "id": "554a16dd-814b-474b-9aca-506e3a9a4e0b",
   "metadata": {},
   "outputs": [
    {
     "name": "stdout",
     "output_type": "stream",
     "text": [
      "Shudanshu\n"
     ]
    }
   ],
   "source": [
    "pwskills1.mentor_class(\"Shudanshu\")"
   ]
  },
  {
   "cell_type": "code",
   "execution_count": 16,
   "id": "0d7d1c23-f2e6-4ad3-9a3e-741c63508bdc",
   "metadata": {},
   "outputs": [],
   "source": [
    "###### Otherwise you need to create seprate copies everytime ######"
   ]
  },
  {
   "cell_type": "code",
   "execution_count": 17,
   "id": "5e835853-0e78-44c8-a22f-30191852d3b2",
   "metadata": {},
   "outputs": [],
   "source": [
    "studnet1=pwskills1()"
   ]
  },
  {
   "cell_type": "code",
   "execution_count": 19,
   "id": "67bfb855-33c1-4f31-b5f4-70519c7bffe4",
   "metadata": {},
   "outputs": [],
   "source": [
    "student2=pwskills1()"
   ]
  },
  {
   "cell_type": "code",
   "execution_count": 20,
   "id": "3ae8bdcd-d7b4-473b-9795-e9ef82e38a51",
   "metadata": {},
   "outputs": [],
   "source": [
    "studnet3=pwskills1()"
   ]
  },
  {
   "cell_type": "code",
   "execution_count": 22,
   "id": "bd8bc08b-e637-459c-b465-c5f223ac6da7",
   "metadata": {},
   "outputs": [],
   "source": [
    "#### Eg if we have to create a new obj for every student, Ya makes sense but mentors are limited so !!!!!!\\"
   ]
  },
  {
   "cell_type": "code",
   "execution_count": 23,
   "id": "faddb623-7fa6-4dff-8c82-bcfb3caccfba",
   "metadata": {},
   "outputs": [
    {
     "name": "stdout",
     "output_type": "stream",
     "text": [
      "Krish\n"
     ]
    }
   ],
   "source": [
    "student2.mentor_class(\"Krish\")"
   ]
  },
  {
   "cell_type": "code",
   "execution_count": 31,
   "id": "a9b92cb4-bda1-4d69-b6e6-8c3cfd402e91",
   "metadata": {},
   "outputs": [],
   "source": [
    "class pwskills1:\n",
    "    def student_details(self,name,mail_id,number):\n",
    "        print(name,mail_id,number)\n",
    "    @staticmethod   ### When you think you should not need to create new instance every time\n",
    "    def mentor_class(list_mentors):\n",
    "        print(list_mentors)\n",
    "    \n",
    "    @classmethod\n",
    "    def class_name(cls):\n",
    "        cls.mentor_class(\"Sudhanshu\",\"Krish\")\n",
    "    def mentor(self,mentorlist):\n",
    "        print(mentorlist)"
   ]
  },
  {
   "cell_type": "code",
   "execution_count": null,
   "id": "1c978276-db60-41d8-a389-f4859e53bc8d",
   "metadata": {},
   "outputs": [],
   "source": []
  },
  {
   "cell_type": "code",
   "execution_count": null,
   "id": "4c25b1ef-09a6-4648-b8f9-8cca56ae9061",
   "metadata": {},
   "outputs": [],
   "source": []
  }
 ],
 "metadata": {
  "kernelspec": {
   "display_name": "Python 3 (ipykernel)",
   "language": "python",
   "name": "python3"
  },
  "language_info": {
   "codemirror_mode": {
    "name": "ipython",
    "version": 3
   },
   "file_extension": ".py",
   "mimetype": "text/x-python",
   "name": "python",
   "nbconvert_exporter": "python",
   "pygments_lexer": "ipython3",
   "version": "3.10.8"
  }
 },
 "nbformat": 4,
 "nbformat_minor": 5
}
