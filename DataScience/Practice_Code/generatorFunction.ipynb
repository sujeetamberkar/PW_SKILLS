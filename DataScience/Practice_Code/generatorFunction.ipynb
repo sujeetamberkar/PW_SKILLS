{
 "cells": [
  {
   "cell_type": "code",
   "execution_count": 15,
   "id": "e78c69de-a69f-4b78-975f-82b7dc5a23b4",
   "metadata": {},
   "outputs": [],
   "source": [
    "#Gives values without holding anything in the memeory \n",
    "#Remove data one by one"
   ]
  },
  {
   "cell_type": "code",
   "execution_count": 16,
   "id": "c198b3d6-e08c-4272-9777-cfdf23fee5a2",
   "metadata": {},
   "outputs": [
    {
     "name": "stdout",
     "output_type": "stream",
     "text": [
      "0\n",
      "1\n",
      "1\n",
      "2\n",
      "3\n",
      "5\n",
      "8\n",
      "13\n",
      "21\n",
      "34\n"
     ]
    }
   ],
   "source": [
    "def test_fib(n):\n",
    "    a,b=0,1\n",
    "    for i in range(n):\n",
    "        yield a\n",
    "        a,b=b,a+b\n",
    "\n",
    "for i in test_fib(10):\n",
    "    print(i)\n"
   ]
  },
  {
   "cell_type": "code",
   "execution_count": 17,
   "id": "4e0af192-c552-4256-b77c-b9a72d241599",
   "metadata": {},
   "outputs": [],
   "source": [
    "def test_fib():\n",
    "    a,b=0,1\n",
    "    while True:\n",
    "        yield a\n",
    "        a,b=b,a+b\n",
    "fib=test_fib()"
   ]
  },
  {
   "cell_type": "code",
   "execution_count": 4,
   "id": "22ba4df0-102d-4c6b-83b9-d32f1324e970",
   "metadata": {},
   "outputs": [
    {
     "name": "stdout",
     "output_type": "stream",
     "text": [
      "0\n",
      "1\n",
      "1\n",
      "2\n",
      "3\n",
      "5\n",
      "8\n",
      "13\n",
      "21\n",
      "34\n"
     ]
    }
   ],
   "source": [
    "for i in range(10):\n",
    "    print(next(fib))\n"
   ]
  },
  {
   "cell_type": "code",
   "execution_count": 5,
   "id": "55dd6191-2a8d-4284-b8ca-eb7729f7d946",
   "metadata": {},
   "outputs": [],
   "source": [
    "s=\"Sujeet\""
   ]
  },
  {
   "cell_type": "code",
   "execution_count": 6,
   "id": "7a25b5a7-fca7-46b7-a3d3-cddf431ff5cb",
   "metadata": {},
   "outputs": [
    {
     "ename": "TypeError",
     "evalue": "'str' object is not an iterator",
     "output_type": "error",
     "traceback": [
      "\u001b[0;31m---------------------------------------------------------------------------\u001b[0m",
      "\u001b[0;31mTypeError\u001b[0m                                 Traceback (most recent call last)",
      "Cell \u001b[0;32mIn[6], line 1\u001b[0m\n\u001b[0;32m----> 1\u001b[0m \u001b[38;5;28;43mnext\u001b[39;49m\u001b[43m(\u001b[49m\u001b[43ms\u001b[49m\u001b[43m)\u001b[49m\n",
      "\u001b[0;31mTypeError\u001b[0m: 'str' object is not an iterator"
     ]
    }
   ],
   "source": [
    "next(s)"
   ]
  },
  {
   "cell_type": "code",
   "execution_count": 14,
   "id": "51761956-c21d-4797-8fde-a150c7b5f8c2",
   "metadata": {},
   "outputs": [
    {
     "data": {
      "text/plain": [
       "str_iterator"
      ]
     },
     "execution_count": 14,
     "metadata": {},
     "output_type": "execute_result"
    }
   ],
   "source": [
    "s1=iter(s)\n",
    "type(s1)"
   ]
  },
  {
   "cell_type": "code",
   "execution_count": 9,
   "id": "d35d6e81-0a29-4f00-9869-1b6fd21c42d7",
   "metadata": {},
   "outputs": [
    {
     "data": {
      "text/plain": [
       "'S'"
      ]
     },
     "execution_count": 9,
     "metadata": {},
     "output_type": "execute_result"
    }
   ],
   "source": [
    "next(s1)"
   ]
  },
  {
   "cell_type": "code",
   "execution_count": 10,
   "id": "2bae60c6-458f-4702-939d-48145d4f37be",
   "metadata": {},
   "outputs": [
    {
     "data": {
      "text/plain": [
       "'u'"
      ]
     },
     "execution_count": 10,
     "metadata": {},
     "output_type": "execute_result"
    }
   ],
   "source": [
    "next(s1)"
   ]
  },
  {
   "cell_type": "code",
   "execution_count": 11,
   "id": "4fefc844-3a6b-4592-b194-6ef99cf47d44",
   "metadata": {},
   "outputs": [
    {
     "data": {
      "text/plain": [
       "'j'"
      ]
     },
     "execution_count": 11,
     "metadata": {},
     "output_type": "execute_result"
    }
   ],
   "source": [
    "next(s1)"
   ]
  },
  {
   "cell_type": "code",
   "execution_count": 12,
   "id": "5913175a-dc4d-453d-bafc-b09b777ed76c",
   "metadata": {},
   "outputs": [
    {
     "data": {
      "text/plain": [
       "'e'"
      ]
     },
     "execution_count": 12,
     "metadata": {},
     "output_type": "execute_result"
    }
   ],
   "source": [
    "next(s1)\n",
    "next(s1)"
   ]
  },
  {
   "cell_type": "code",
   "execution_count": 13,
   "id": "8e8f2cc8-199a-4871-9ce5-0ce72bac5408",
   "metadata": {},
   "outputs": [
    {
     "data": {
      "text/plain": [
       "'t'"
      ]
     },
     "execution_count": 13,
     "metadata": {},
     "output_type": "execute_result"
    }
   ],
   "source": [
    "next(s1)\n"
   ]
  },
  {
   "cell_type": "code",
   "execution_count": 20,
   "id": "59ebe850-a995-4e8e-bd1a-873175c3901d",
   "metadata": {},
   "outputs": [
    {
     "name": "stdout",
     "output_type": "stream",
     "text": [
      "1\n",
      "2\n",
      "3\n",
      "4\n"
     ]
    }
   ],
   "source": [
    "def count_text(n):\n",
    "    count=1\n",
    "    while count <n:\n",
    "        yield count\n",
    "        count+=1\n",
    "c=count_text(5)\n",
    "\n",
    "for i in c:\n",
    "    print(i)\n",
    "    \n",
    "    "
   ]
  },
  {
   "cell_type": "code",
   "execution_count": 24,
   "id": "9e2914c5-44e0-4fe6-899e-2823adcaa76a",
   "metadata": {},
   "outputs": [],
   "source": [
    "a= lambda n, p : n*p"
   ]
  },
  {
   "cell_type": "code",
   "execution_count": 25,
   "id": "98237f0d-61a4-427b-807e-1fdb24895011",
   "metadata": {},
   "outputs": [
    {
     "data": {
      "text/plain": [
       "12"
      ]
     },
     "execution_count": 25,
     "metadata": {},
     "output_type": "execute_result"
    }
   ],
   "source": [
    "a(3,4)"
   ]
  },
  {
   "cell_type": "code",
   "execution_count": 26,
   "id": "14c3f41b-9f15-48b3-870c-c911d2c58a45",
   "metadata": {},
   "outputs": [],
   "source": [
    "add= lambda a,b : a+b"
   ]
  },
  {
   "cell_type": "code",
   "execution_count": 27,
   "id": "18c85b34-baf6-4e32-ad1e-e83bd0da072f",
   "metadata": {},
   "outputs": [
    {
     "data": {
      "text/plain": [
       "7"
      ]
     },
     "execution_count": 27,
     "metadata": {},
     "output_type": "execute_result"
    }
   ],
   "source": [
    "add(3,4)"
   ]
  },
  {
   "cell_type": "code",
   "execution_count": 28,
   "id": "9ea270e6-40af-436e-970e-4b9d728393ff",
   "metadata": {},
   "outputs": [],
   "source": [
    "c_to_f=lambda c: (c*9/5)+32"
   ]
  },
  {
   "cell_type": "code",
   "execution_count": 29,
   "id": "92c290ab-212c-41b6-b487-f8ebd7f72130",
   "metadata": {},
   "outputs": [
    {
     "data": {
      "text/plain": [
       "89.6"
      ]
     },
     "execution_count": 29,
     "metadata": {},
     "output_type": "execute_result"
    }
   ],
   "source": [
    "c_to_f(32)"
   ]
  },
  {
   "cell_type": "code",
   "execution_count": 31,
   "id": "fbd706e0-285f-4dd4-b7e1-e286e2036ea2",
   "metadata": {},
   "outputs": [],
   "source": [
    "finding_max= lambda x,y : x if x>y else y"
   ]
  },
  {
   "cell_type": "code",
   "execution_count": 32,
   "id": "23302c6f-b6b3-4992-a95e-d8c880e37026",
   "metadata": {},
   "outputs": [
    {
     "data": {
      "text/plain": [
       "4"
      ]
     },
     "execution_count": 32,
     "metadata": {},
     "output_type": "execute_result"
    }
   ],
   "source": [
    "finding_max(3,4)"
   ]
  },
  {
   "cell_type": "code",
   "execution_count": null,
   "id": "223588e4-2bad-49bb-ad0e-c5473ee65c4e",
   "metadata": {},
   "outputs": [],
   "source": []
  }
 ],
 "metadata": {
  "kernelspec": {
   "display_name": "Python 3 (ipykernel)",
   "language": "python",
   "name": "python3"
  },
  "language_info": {
   "codemirror_mode": {
    "name": "ipython",
    "version": 3
   },
   "file_extension": ".py",
   "mimetype": "text/x-python",
   "name": "python",
   "nbconvert_exporter": "python",
   "pygments_lexer": "ipython3",
   "version": "3.10.8"
  }
 },
 "nbformat": 4,
 "nbformat_minor": 5
}
