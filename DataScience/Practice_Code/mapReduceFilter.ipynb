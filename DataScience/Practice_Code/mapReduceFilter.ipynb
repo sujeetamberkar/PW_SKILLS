{
 "cells": [
  {
   "cell_type": "code",
   "execution_count": 1,
   "id": "5320e44f-063b-4bac-b47d-ba8dba678082",
   "metadata": {},
   "outputs": [],
   "source": [
    "#Doing the same opperations with everyone"
   ]
  },
  {
   "cell_type": "code",
   "execution_count": 5,
   "id": "c820142c-499d-4c97-924b-42cb077708fb",
   "metadata": {},
   "outputs": [
    {
     "data": {
      "text/plain": [
       "[1, 4, 9, 16, 25]"
      ]
     },
     "execution_count": 5,
     "metadata": {},
     "output_type": "execute_result"
    }
   ],
   "source": [
    "list1=[1,2,3,4,5]\n",
    "l1=[]\n",
    "def square(g):\n",
    "    for i in g:\n",
    "        l1.append(i*i)\n",
    "    return l1\n",
    "\n",
    "square(list1)\n",
    "#### Now if we map each and every element with the square function"
   ]
  },
  {
   "cell_type": "code",
   "execution_count": 6,
   "id": "ee9f316a-9531-4550-a4ec-4bf6d9b20ce4",
   "metadata": {},
   "outputs": [
    {
     "data": {
      "text/plain": [
       "[1, 4, 9, 16, 25]"
      ]
     },
     "execution_count": 6,
     "metadata": {},
     "output_type": "execute_result"
    }
   ],
   "source": [
    "def sq(x):\n",
    "    return x**2\n",
    "list(map(sq,list1))"
   ]
  },
  {
   "cell_type": "code",
   "execution_count": 8,
   "id": "cf55fd6c-ac49-4b85-95c0-960d02089427",
   "metadata": {},
   "outputs": [
    {
     "data": {
      "text/plain": [
       "[1, 4, 9, 16, 25]"
      ]
     },
     "execution_count": 8,
     "metadata": {},
     "output_type": "execute_result"
    }
   ],
   "source": [
    "list(map((lambda x: x**2),list1))"
   ]
  },
  {
   "cell_type": "code",
   "execution_count": 11,
   "id": "6892eab7-a2e4-47e5-9fc3-7195f6c43f2a",
   "metadata": {},
   "outputs": [
    {
     "data": {
      "text/plain": [
       "[11, 22, 33, 44, 55, 66, 77, 88, 99]"
      ]
     },
     "execution_count": 11,
     "metadata": {},
     "output_type": "execute_result"
    }
   ],
   "source": [
    "l1=[1,2,3,4,5,6,7,8,9]\n",
    "l2=[10,20,30,40,50,60,70,80,90]\n",
    "list(map((lambda x,y: x+y),l1,l2))"
   ]
  },
  {
   "cell_type": "code",
   "execution_count": 12,
   "id": "6665510f-409c-4af1-8119-161b0a4faeca",
   "metadata": {},
   "outputs": [
    {
     "data": {
      "text/plain": [
       "[11, 22, 33, 44, 55, 66, 77, 88, 99]"
      ]
     },
     "execution_count": 12,
     "metadata": {},
     "output_type": "execute_result"
    }
   ],
   "source": [
    "def add(x,y):\n",
    "    return x+y\n",
    "list(map(add,l1,l2))"
   ]
  },
  {
   "cell_type": "code",
   "execution_count": 18,
   "id": "04da341d-640c-4a7a-9d22-af2d06082730",
   "metadata": {},
   "outputs": [
    {
     "data": {
      "text/plain": [
       "['S', 'U', 'J', 'E', 'E', 'T']"
      ]
     },
     "execution_count": 18,
     "metadata": {},
     "output_type": "execute_result"
    }
   ],
   "source": [
    "name=\"Sujeet\"\n",
    "list(map((lambda x: x.upper()),name))"
   ]
  },
  {
   "cell_type": "code",
   "execution_count": 22,
   "id": "1429a4a0-ae70-4586-a3fe-a3d4594cbc91",
   "metadata": {},
   "outputs": [
    {
     "data": {
      "text/plain": [
       "45"
      ]
     },
     "execution_count": 22,
     "metadata": {},
     "output_type": "execute_result"
    }
   ],
   "source": [
    "###Reduce the number of elements one by one\n",
    "###Only 2 parameters are allowed, because sometimes z,y,Z may not be always present\n",
    "from functools import reduce\n",
    "l=[1,2,3,4,5,6,7,8,9]\n",
    "reduce((lambda x,y: x+y),l)"
   ]
  },
  {
   "cell_type": "code",
   "execution_count": 24,
   "id": "bddeecb6-64f6-49cd-bd99-aff0aec98741",
   "metadata": {},
   "outputs": [
    {
     "data": {
      "text/plain": [
       "1"
      ]
     },
     "execution_count": 24,
     "metadata": {},
     "output_type": "execute_result"
    }
   ],
   "source": [
    "#### Exceptional case of reduce \n",
    "reduce((lambda x,y: x+y),[1])"
   ]
  },
  {
   "cell_type": "code",
   "execution_count": 25,
   "id": "b6036ce3-ea52-4fc1-bed6-990845a782a9",
   "metadata": {},
   "outputs": [
    {
     "data": {
      "text/plain": [
       "362880"
      ]
     },
     "execution_count": 25,
     "metadata": {},
     "output_type": "execute_result"
    }
   ],
   "source": [
    "reduce((lambda x,y: x*y),l)"
   ]
  },
  {
   "cell_type": "code",
   "execution_count": 26,
   "id": "e56ad9fc-66a1-4df7-b0b0-a19b9a52d595",
   "metadata": {},
   "outputs": [
    {
     "data": {
      "text/plain": [
       "9"
      ]
     },
     "execution_count": 26,
     "metadata": {},
     "output_type": "execute_result"
    }
   ],
   "source": [
    "reduce(lambda x,y : x if x > y else y, l  )"
   ]
  },
  {
   "cell_type": "code",
   "execution_count": 29,
   "id": "1f1797e2-90a5-48dc-a1c8-ec0daa923cf6",
   "metadata": {},
   "outputs": [
    {
     "data": {
      "text/plain": [
       "[2, 4, 6, 8]"
      ]
     },
     "execution_count": 29,
     "metadata": {},
     "output_type": "execute_result"
    }
   ],
   "source": [
    "#### FIlter out all even number, odd number\n",
    "list(filter(lambda x: x % 2== 0, l))"
   ]
  },
  {
   "cell_type": "code",
   "execution_count": 30,
   "id": "a43b7b0d-8960-4795-97f1-426af6ff0558",
   "metadata": {},
   "outputs": [
    {
     "data": {
      "text/plain": [
       "[1, 3, 5, 7, 9]"
      ]
     },
     "execution_count": 30,
     "metadata": {},
     "output_type": "execute_result"
    }
   ],
   "source": [
    "list(filter(lambda x: x % 2!= 0, l))"
   ]
  },
  {
   "cell_type": "code",
   "execution_count": 32,
   "id": "e4b67f0c-299e-4412-b742-ff89ab6662d5",
   "metadata": {},
   "outputs": [
    {
     "data": {
      "text/plain": [
       "[-1, -2, -4]"
      ]
     },
     "execution_count": 32,
     "metadata": {},
     "output_type": "execute_result"
    }
   ],
   "source": [
    "#####Print only negative number\n",
    "l=[-1,-2,-4,5,6,7]\n",
    "list(filter(lambda x : x<=0,l))"
   ]
  },
  {
   "cell_type": "code",
   "execution_count": 34,
   "id": "5e8e0561-35f3-4778-b87a-6bf4dd7ee3a6",
   "metadata": {},
   "outputs": [
    {
     "data": {
      "text/plain": [
       "['Sujeet', 'CSE', 'Py']"
      ]
     },
     "execution_count": 34,
     "metadata": {},
     "output_type": "execute_result"
    }
   ],
   "source": [
    "l=[\"Sujeet\",\"CSE\", \"Amberkar\",\"Py\"]\n",
    "list(filter(lambda x: len(x)<=6 ,l))"
   ]
  },
  {
   "cell_type": "code",
   "execution_count": null,
   "id": "1f815b23-689e-4c7e-b81d-a8a36355f471",
   "metadata": {},
   "outputs": [],
   "source": []
  }
 ],
 "metadata": {
  "kernelspec": {
   "display_name": "Python 3 (ipykernel)",
   "language": "python",
   "name": "python3"
  },
  "language_info": {
   "codemirror_mode": {
    "name": "ipython",
    "version": 3
   },
   "file_extension": ".py",
   "mimetype": "text/x-python",
   "name": "python",
   "nbconvert_exporter": "python",
   "pygments_lexer": "ipython3",
   "version": "3.10.8"
  }
 },
 "nbformat": 4,
 "nbformat_minor": 5
}
