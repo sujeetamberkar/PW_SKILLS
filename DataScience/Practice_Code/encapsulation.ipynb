{
 "cells": [
  {
   "cell_type": "code",
   "execution_count": 2,
   "id": "fd0eb718-8fc9-415e-a470-e90c3b304637",
   "metadata": {},
   "outputs": [],
   "source": [
    "#Hide intenal structure of class"
   ]
  },
  {
   "cell_type": "code",
   "execution_count": 3,
   "id": "aaae0c21-e010-4fcc-baf4-59936f186ec8",
   "metadata": {},
   "outputs": [],
   "source": [
    "class test:\n",
    "    def __init__(self,a,b):\n",
    "        self.a=a\n",
    "        self.b=b\n"
   ]
  },
  {
   "cell_type": "code",
   "execution_count": 4,
   "id": "cdde63ea-73a0-4c19-8fb9-339b9dc02001",
   "metadata": {},
   "outputs": [],
   "source": [
    "t=test(23,3)"
   ]
  },
  {
   "cell_type": "code",
   "execution_count": 5,
   "id": "47fc03a2-a9e1-43e7-8245-f76d67c913d9",
   "metadata": {},
   "outputs": [
    {
     "data": {
      "text/plain": [
       "23"
      ]
     },
     "execution_count": 5,
     "metadata": {},
     "output_type": "execute_result"
    }
   ],
   "source": [
    "t.a"
   ]
  },
  {
   "cell_type": "code",
   "execution_count": 16,
   "id": "43f06575-036f-48a1-aad9-b230c12d9fea",
   "metadata": {},
   "outputs": [],
   "source": [
    "class car:\n",
    "    def __init__(self,year,make,model,speed):  #Private\n",
    "        self.__year=year\n",
    "        self.__make=make\n",
    "        self.__modle=model\n",
    "        self.__speed=0\n",
    "    def set_speed(self,speed):\n",
    "        self.__speed=0 if speed < 0 else speed\n",
    "    def get_speed(self):\n",
    "        return self.__speed"
   ]
  },
  {
   "cell_type": "code",
   "execution_count": 17,
   "id": "6931a1cb-aa4b-4a74-9b19-1312ae8cf672",
   "metadata": {},
   "outputs": [],
   "source": [
    "c=car(2021,\"toyota\",\"innova\",12)"
   ]
  },
  {
   "cell_type": "code",
   "execution_count": 18,
   "id": "5686bcc0-6a6b-4c5f-9bbb-0618f2bb7f5d",
   "metadata": {},
   "outputs": [
    {
     "data": {
      "text/plain": [
       "2021"
      ]
     },
     "execution_count": 18,
     "metadata": {},
     "output_type": "execute_result"
    }
   ],
   "source": [
    "c._car__year ## _className__var"
   ]
  },
  {
   "cell_type": "code",
   "execution_count": 19,
   "id": "ea3d1618-8173-4a79-b29b-097c678f6af0",
   "metadata": {},
   "outputs": [],
   "source": [
    "c.set_speed(3)"
   ]
  },
  {
   "cell_type": "code",
   "execution_count": 20,
   "id": "3bef1f7b-2b54-464a-be82-b46c1bd6986e",
   "metadata": {},
   "outputs": [
    {
     "data": {
      "text/plain": [
       "3"
      ]
     },
     "execution_count": 20,
     "metadata": {},
     "output_type": "execute_result"
    }
   ],
   "source": [
    "c.get_speed()"
   ]
  },
  {
   "cell_type": "code",
   "execution_count": 36,
   "id": "b08f74fa-e0ef-44ea-9a28-9569adafd10f",
   "metadata": {},
   "outputs": [],
   "source": [
    "class bankAccount:\n",
    "    def __init__(self,balance):\n",
    "        self.__balance=balance\n",
    "    def deposit(self,ammount):\n",
    "        self.__balance=self.__balance+ammount\n",
    "    def withdraw(self,ammount):\n",
    "        if self.__balance >= ammount:\n",
    "            self.__balance=self.__balance-ammount\n",
    "            return True\n",
    "        else:\n",
    "            return False\n",
    "    def get_account_balance(self):\n",
    "        return self.__balance\n",
    "    \n",
    "            \n",
    "        "
   ]
  },
  {
   "cell_type": "code",
   "execution_count": 34,
   "id": "9f43b3a7-d935-453f-a50b-a90de18df39b",
   "metadata": {},
   "outputs": [],
   "source": [
    "sujeet=bankAccount(1000)"
   ]
  },
  {
   "cell_type": "code",
   "execution_count": 29,
   "id": "af0fdc9a-bd9c-4ae1-a967-be7aa335c126",
   "metadata": {},
   "outputs": [],
   "source": [
    "sujeet.deposit(333)"
   ]
  },
  {
   "cell_type": "code",
   "execution_count": 37,
   "id": "d3eddd03-9961-462c-8883-5928a1b61861",
   "metadata": {},
   "outputs": [
    {
     "data": {
      "text/plain": [
       "True"
      ]
     },
     "execution_count": 37,
     "metadata": {},
     "output_type": "execute_result"
    }
   ],
   "source": [
    "sujeet.withdraw(1)"
   ]
  },
  {
   "cell_type": "code",
   "execution_count": 38,
   "id": "a383bd8e-eafb-47a2-8e8b-eaab86c5f012",
   "metadata": {},
   "outputs": [
    {
     "data": {
      "text/plain": [
       "999"
      ]
     },
     "execution_count": 38,
     "metadata": {},
     "output_type": "execute_result"
    }
   ],
   "source": [
    "sujeet.get_account_balance()"
   ]
  },
  {
   "cell_type": "code",
   "execution_count": 39,
   "id": "2dec49a8-dd55-42ec-b944-ebab7c72fc04",
   "metadata": {},
   "outputs": [
    {
     "data": {
      "text/plain": [
       "True"
      ]
     },
     "execution_count": 39,
     "metadata": {},
     "output_type": "execute_result"
    }
   ],
   "source": [
    "sujeet.withdraw(444)"
   ]
  },
  {
   "cell_type": "code",
   "execution_count": null,
   "id": "514552a1-0a4d-41df-96fa-5315d274c344",
   "metadata": {},
   "outputs": [],
   "source": []
  }
 ],
 "metadata": {
  "kernelspec": {
   "display_name": "Python 3 (ipykernel)",
   "language": "python",
   "name": "python3"
  },
  "language_info": {
   "codemirror_mode": {
    "name": "ipython",
    "version": 3
   },
   "file_extension": ".py",
   "mimetype": "text/x-python",
   "name": "python",
   "nbconvert_exporter": "python",
   "pygments_lexer": "ipython3",
   "version": "3.10.8"
  }
 },
 "nbformat": 4,
 "nbformat_minor": 5
}
