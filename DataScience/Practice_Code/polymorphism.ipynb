{
 "cells": [
  {
   "cell_type": "code",
   "execution_count": 1,
   "id": "55e03d06-e328-4432-aa0f-b494b21da61c",
   "metadata": {},
   "outputs": [],
   "source": [
    "#Difefrent behaviour depending on different data"
   ]
  },
  {
   "cell_type": "code",
   "execution_count": 2,
   "id": "d8b56403-d11c-4011-a1f1-f764be99b495",
   "metadata": {},
   "outputs": [],
   "source": [
    "def test(a,b):\n",
    "    return a+b"
   ]
  },
  {
   "cell_type": "code",
   "execution_count": 3,
   "id": "1ea976ba-470e-484b-8026-b5fc3f9c7bca",
   "metadata": {},
   "outputs": [
    {
     "data": {
      "text/plain": [
       "5"
      ]
     },
     "execution_count": 3,
     "metadata": {},
     "output_type": "execute_result"
    }
   ],
   "source": [
    "test(0,5)\n"
   ]
  },
  {
   "cell_type": "code",
   "execution_count": 4,
   "id": "43651e3a-abb9-4a6e-9565-b482b9f40bfc",
   "metadata": {},
   "outputs": [
    {
     "data": {
      "text/plain": [
       "'SujeetAmberkar'"
      ]
     },
     "execution_count": 4,
     "metadata": {},
     "output_type": "execute_result"
    }
   ],
   "source": [
    "test(\"Sujeet\",\"Amberkar\")"
   ]
  },
  {
   "cell_type": "code",
   "execution_count": 5,
   "id": "6f735a20-8779-4d46-b532-3903f4457b40",
   "metadata": {},
   "outputs": [],
   "source": [
    "#Sometimes addition, sometimes string concatenation sometimes .....etc\n"
   ]
  },
  {
   "cell_type": "code",
   "execution_count": 7,
   "id": "ee8721f4-654d-4810-979b-5734302fb9f7",
   "metadata": {},
   "outputs": [],
   "source": [
    "class datascience:\n",
    "    def syllabus(self):\n",
    "        print(\"This is my syllabus for data science\")\n",
    "class webDev:\n",
    "    def syllabus(self):\n",
    "        print(\"This is syllabus for web dev\")\n",
    "        "
   ]
  },
  {
   "cell_type": "code",
   "execution_count": 8,
   "id": "bc2d9495-2e0b-4be7-acac-41b0fe99b6c1",
   "metadata": {},
   "outputs": [],
   "source": [
    "def class_parser(clas_obj):\n",
    "    for i in class_obj:\n",
    "        i.syllabus()"
   ]
  },
  {
   "cell_type": "code",
   "execution_count": 9,
   "id": "44c411ad-0793-4ba2-856c-a3a052721d71",
   "metadata": {},
   "outputs": [],
   "source": [
    "data_science=datascience()\n",
    "web_dev=webDev()"
   ]
  },
  {
   "cell_type": "code",
   "execution_count": 10,
   "id": "222e849d-8350-4f61-80fe-62ce623ef7e2",
   "metadata": {},
   "outputs": [],
   "source": [
    "class_obj=[data_science,web_dev]"
   ]
  },
  {
   "cell_type": "code",
   "execution_count": 11,
   "id": "43b57dde-d26f-492b-a6fe-a70326c672f2",
   "metadata": {},
   "outputs": [
    {
     "name": "stdout",
     "output_type": "stream",
     "text": [
      "This is my syllabus for data science\n",
      "This is syllabus for web dev\n"
     ]
    }
   ],
   "source": [
    "class_parser(class_obj)\n"
   ]
  },
  {
   "cell_type": "code",
   "execution_count": null,
   "id": "85f9c309-f00e-4a25-806f-7b9d7c62da65",
   "metadata": {},
   "outputs": [],
   "source": []
  }
 ],
 "metadata": {
  "kernelspec": {
   "display_name": "Python 3 (ipykernel)",
   "language": "python",
   "name": "python3"
  },
  "language_info": {
   "codemirror_mode": {
    "name": "ipython",
    "version": 3
   },
   "file_extension": ".py",
   "mimetype": "text/x-python",
   "name": "python",
   "nbconvert_exporter": "python",
   "pygments_lexer": "ipython3",
   "version": "3.10.8"
  }
 },
 "nbformat": 4,
 "nbformat_minor": 5
}
