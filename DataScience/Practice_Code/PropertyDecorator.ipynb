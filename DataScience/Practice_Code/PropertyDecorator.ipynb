{
 "cells": [
  {
   "cell_type": "code",
   "execution_count": 16,
   "id": "05fc8fd6-9ad6-4d2a-87b5-ad5e1740b727",
   "metadata": {},
   "outputs": [],
   "source": [
    "class pwskills:  ## Private __  protected _\n",
    "    def __init__(self, course_price,course_name):\n",
    "        self.__course_price=course_price\n",
    "        self.course_name=course_name\n",
    "    @property\n",
    "    def course_price_access(self):\n",
    "        return self.__course_price\n",
    "    @course_price_access.setter\n",
    "    def course_price_set(self,price):\n",
    "        if price <= 3500:\n",
    "            pass\n",
    "        else:\n",
    "            self.__course_price=price\n",
    "    @course_price_access.deleter\n",
    "    def delete_course_price(self):\n",
    "        del self.__course_price\n",
    "    "
   ]
  },
  {
   "cell_type": "code",
   "execution_count": 17,
   "id": "1e7a3484-586b-4a1e-b760-5429916c2875",
   "metadata": {},
   "outputs": [],
   "source": [
    "pw=pwskills(3500, \"Data Science Masters\")"
   ]
  },
  {
   "cell_type": "code",
   "execution_count": 18,
   "id": "317be173-8eaa-47d6-922c-d44b260ad4ee",
   "metadata": {},
   "outputs": [
    {
     "data": {
      "text/plain": [
       "3500"
      ]
     },
     "execution_count": 18,
     "metadata": {},
     "output_type": "execute_result"
    }
   ],
   "source": [
    "pw.course_price_access"
   ]
  },
  {
   "cell_type": "code",
   "execution_count": 19,
   "id": "f93a4040-f256-4b9e-9f8d-c78323e692f9",
   "metadata": {},
   "outputs": [],
   "source": [
    "pw.course_price_set=4500"
   ]
  },
  {
   "cell_type": "code",
   "execution_count": 20,
   "id": "f32e1ca0-5330-4b01-9760-44389d303bf1",
   "metadata": {},
   "outputs": [
    {
     "data": {
      "text/plain": [
       "4500"
      ]
     },
     "execution_count": 20,
     "metadata": {},
     "output_type": "execute_result"
    }
   ],
   "source": [
    "pw.course_price_access"
   ]
  },
  {
   "cell_type": "code",
   "execution_count": 21,
   "id": "4c9d0fa4-1a6f-4cd6-afb1-8df1f9d615e0",
   "metadata": {},
   "outputs": [],
   "source": [
    "del pw.delete_course_price"
   ]
  },
  {
   "cell_type": "code",
   "execution_count": null,
   "id": "cfba3abd-ee71-4ef2-9639-a2994dcf09bf",
   "metadata": {},
   "outputs": [],
   "source": []
  }
 ],
 "metadata": {
  "kernelspec": {
   "display_name": "Python 3 (ipykernel)",
   "language": "python",
   "name": "python3"
  },
  "language_info": {
   "codemirror_mode": {
    "name": "ipython",
    "version": 3
   },
   "file_extension": ".py",
   "mimetype": "text/x-python",
   "name": "python",
   "nbconvert_exporter": "python",
   "pygments_lexer": "ipython3",
   "version": "3.10.8"
  }
 },
 "nbformat": 4,
 "nbformat_minor": 5
}
