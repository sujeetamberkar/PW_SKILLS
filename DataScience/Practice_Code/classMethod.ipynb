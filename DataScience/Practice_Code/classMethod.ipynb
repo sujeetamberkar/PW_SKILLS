{
 "cells": [
  {
   "cell_type": "code",
   "execution_count": 12,
   "id": "0d0317ff-9ca9-4859-950b-0dd18478d9e0",
   "metadata": {},
   "outputs": [],
   "source": [
    "class pwskills:\n",
    "    def __init__(self,name,email):\n",
    "        self.name=name\n",
    "        self.email=email\n",
    "        \n",
    "    def student_details(self):\n",
    "        print(self.name,self.email)"
   ]
  },
  {
   "cell_type": "code",
   "execution_count": 13,
   "id": "86e27486-36c6-4165-8429-f4e97d70a2e8",
   "metadata": {},
   "outputs": [],
   "source": [
    "pw=pwskills(\"mohan\",\"mohan@gmail.com\")"
   ]
  },
  {
   "cell_type": "code",
   "execution_count": 14,
   "id": "4e9aba18-3f35-4f46-b222-48ccc3081a4a",
   "metadata": {},
   "outputs": [
    {
     "data": {
      "text/plain": [
       "'mohan'"
      ]
     },
     "execution_count": 14,
     "metadata": {},
     "output_type": "execute_result"
    }
   ],
   "source": [
    "pw.name"
   ]
  },
  {
   "cell_type": "code",
   "execution_count": 15,
   "id": "b1ee9565-2fce-4ee7-9422-58806b683eb9",
   "metadata": {},
   "outputs": [
    {
     "data": {
      "text/plain": [
       "'mohan@gmail.com'"
      ]
     },
     "execution_count": 15,
     "metadata": {},
     "output_type": "execute_result"
    }
   ],
   "source": [
    "pw.email"
   ]
  },
  {
   "cell_type": "code",
   "execution_count": 16,
   "id": "9fe01858-e7df-4ccb-98af-947e2ebeb50e",
   "metadata": {},
   "outputs": [
    {
     "name": "stdout",
     "output_type": "stream",
     "text": [
      "mohan mohan@gmail.com\n"
     ]
    }
   ],
   "source": [
    "pw.student_details()"
   ]
  },
  {
   "cell_type": "code",
   "execution_count": null,
   "id": "621616c0-e5b8-49a8-b684-e33a1b801339",
   "metadata": {},
   "outputs": [],
   "source": []
  },
  {
   "cell_type": "code",
   "execution_count": 96,
   "id": "92ab13cd-d37e-49b4-b0d2-8ec01587a191",
   "metadata": {},
   "outputs": [],
   "source": [
    "class pwskills1:\n",
    "    mobile_num=8451817054\n",
    "    def __init__(self,name,email):\n",
    "        self.name=name\n",
    "        self.email=email\n",
    "        \n",
    "    @classmethod\n",
    "    def changemobilenumber(cls,mobile):\n",
    "        pwskills1.mobile_num=mobile\n",
    "    \n",
    "    @classmethod\n",
    "    def details(cls,name,email):\n",
    "        return cls(name,email)\n",
    "    \n",
    "    def student_details(self):\n",
    "        print(self.name,self.email,pwskills1.mobile_num)"
   ]
  },
  {
   "cell_type": "code",
   "execution_count": 97,
   "id": "a7de7e17-ac58-480e-ad85-c73a4b259924",
   "metadata": {},
   "outputs": [
    {
     "data": {
      "text/plain": [
       "<__main__.pwskills1 at 0x7f13042761d0>"
      ]
     },
     "execution_count": 97,
     "metadata": {},
     "output_type": "execute_result"
    }
   ],
   "source": [
    "pwskills1.details(\"Sujeet\",\"sujeet.amberkar#gmail.com\")"
   ]
  },
  {
   "cell_type": "code",
   "execution_count": 98,
   "id": "51d54da1-5a23-4687-8e0c-d3881b272013",
   "metadata": {},
   "outputs": [],
   "source": [
    "\n",
    "pw1=pwskills1.details(\"Sujeet\",\"sujeet.amberkar#gmail.com\")"
   ]
  },
  {
   "cell_type": "code",
   "execution_count": 99,
   "id": "dcf37651-3f02-48d4-b3c9-fa19796dac0e",
   "metadata": {},
   "outputs": [
    {
     "data": {
      "text/plain": [
       "'Sujeet'"
      ]
     },
     "execution_count": 99,
     "metadata": {},
     "output_type": "execute_result"
    }
   ],
   "source": [
    "pw1.name"
   ]
  },
  {
   "cell_type": "code",
   "execution_count": 100,
   "id": "9b6149f4-9b5b-4d2b-a65c-a9ff73d6d423",
   "metadata": {},
   "outputs": [
    {
     "data": {
      "text/plain": [
       "8451817054"
      ]
     },
     "execution_count": 100,
     "metadata": {},
     "output_type": "execute_result"
    }
   ],
   "source": [
    "pwskills1.mobile_num"
   ]
  },
  {
   "cell_type": "code",
   "execution_count": 101,
   "id": "e74bc16e-ab6c-4f34-89e2-23ea00cf6bcc",
   "metadata": {},
   "outputs": [],
   "source": [
    "pwskills1.changemobilenumber(7021041478)"
   ]
  },
  {
   "cell_type": "code",
   "execution_count": 102,
   "id": "f91d0872-b031-4363-9a44-b3b43815939a",
   "metadata": {},
   "outputs": [
    {
     "data": {
      "text/plain": [
       "7021041478"
      ]
     },
     "execution_count": 102,
     "metadata": {},
     "output_type": "execute_result"
    }
   ],
   "source": [
    "pwskills1.mobile_num"
   ]
  },
  {
   "cell_type": "code",
   "execution_count": 103,
   "id": "47649cdf-9a72-42fa-a856-365823873c85",
   "metadata": {},
   "outputs": [],
   "source": [
    "obj=pwskills1(\"Kshitij\",\"mohite@gmail.com\")"
   ]
  },
  {
   "cell_type": "code",
   "execution_count": 104,
   "id": "12f0b181-b102-46e5-acd8-bf2cadab380a",
   "metadata": {},
   "outputs": [
    {
     "name": "stdout",
     "output_type": "stream",
     "text": [
      "Kshitij mohite@gmail.com 7021041478\n"
     ]
    }
   ],
   "source": [
    "obj.student_details()"
   ]
  },
  {
   "cell_type": "code",
   "execution_count": 105,
   "id": "b93d4a34-cf0c-48b6-ba3c-c22edd21cc52",
   "metadata": {},
   "outputs": [],
   "source": [
    "################################# Add an external function into class ############\n",
    "def course_details(cls,course_name):\n",
    "    print(\"course name is \",course_name)"
   ]
  },
  {
   "cell_type": "code",
   "execution_count": 107,
   "id": "f1bda709-3774-4fc8-8226-75a81b5b5925",
   "metadata": {},
   "outputs": [],
   "source": [
    "pwskills1.cours_deails=classmethod(course_details)"
   ]
  },
  {
   "cell_type": "code",
   "execution_count": 117,
   "id": "1f28bb17-6e25-4998-af57-3e9a9253b7e8",
   "metadata": {},
   "outputs": [
    {
     "name": "stdout",
     "output_type": "stream",
     "text": [
      "course name is  Data Science\n"
     ]
    }
   ],
   "source": [
    "pwskills1.cours_deails('Data Science')\n",
    "##############delete a function"
   ]
  },
  {
   "cell_type": "code",
   "execution_count": 114,
   "id": "88f112d9-9d66-426a-b35b-dd2cbf5bcc1d",
   "metadata": {},
   "outputs": [],
   "source": [
    "del pwskills1.changemobilenumber"
   ]
  },
  {
   "cell_type": "code",
   "execution_count": 119,
   "id": "62288d3a-c22e-4372-8e4c-f1b07b9c2306",
   "metadata": {},
   "outputs": [],
   "source": [
    "del pwskills1.mobile_num"
   ]
  },
  {
   "cell_type": "code",
   "execution_count": null,
   "id": "39998cac-f13d-4529-800d-4df6bc1999d4",
   "metadata": {},
   "outputs": [],
   "source": []
  }
 ],
 "metadata": {
  "kernelspec": {
   "display_name": "Python 3 (ipykernel)",
   "language": "python",
   "name": "python3"
  },
  "language_info": {
   "codemirror_mode": {
    "name": "ipython",
    "version": 3
   },
   "file_extension": ".py",
   "mimetype": "text/x-python",
   "name": "python",
   "nbconvert_exporter": "python",
   "pygments_lexer": "ipython3",
   "version": "3.10.8"
  }
 },
 "nbformat": 4,
 "nbformat_minor": 5
}
