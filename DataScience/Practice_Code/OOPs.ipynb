{
 "cells": [
  {
   "cell_type": "code",
   "execution_count": 1,
   "id": "21d90e2e-5c31-4c9d-b493-672e2d593ebc",
   "metadata": {},
   "outputs": [],
   "source": [
    "#Opps\n",
    "#Class is classification of real world entity \n",
    "#When you say class int, it can be any int \n",
    "#int a              Object, real world enity "
   ]
  },
  {
   "cell_type": "code",
   "execution_count": 5,
   "id": "a9a5e34d-47a0-46cf-bd85-1da3538a3ae0",
   "metadata": {},
   "outputs": [],
   "source": [
    "class pwskills:\n",
    "    def welcomeMessage(self):\n",
    "        print('Welcome')\n",
    "\n",
    "sujeet=pwskills()  ### Create instance"
   ]
  },
  {
   "cell_type": "code",
   "execution_count": 6,
   "id": "a9801932-1349-43b3-be1e-35a8cff18c51",
   "metadata": {},
   "outputs": [
    {
     "name": "stdout",
     "output_type": "stream",
     "text": [
      "Welcome\n"
     ]
    }
   ],
   "source": [
    "sujeet.welcomeMessage()"
   ]
  },
  {
   "cell_type": "code",
   "execution_count": 22,
   "id": "ec6e0194-66da-41fe-8389-3e4afa00d63c",
   "metadata": {},
   "outputs": [],
   "source": [
    "#### if you want to pass values into class\n",
    "#### decllare constructor init\n",
    "### if you want to access anything in the class use it with self \n",
    "class pwskills1:\n",
    "    def __init__(self, phone_number,email_id,student_id):\n",
    "        self.phone_number1=phone_number\n",
    "        self.email_id=email_id\n",
    "        self.student_id=student_id\n",
    "        \n",
    "    def return_studentdetails(self):\n",
    "        return self.student_id,self.phone_number1,self.email_id\n",
    "    \n",
    "        \n",
    "#if not self you can use any other word too, It is not a reserved keyword"
   ]
  },
  {
   "cell_type": "code",
   "execution_count": 23,
   "id": "66a422da-04fd-4506-b21a-af82beba8b41",
   "metadata": {},
   "outputs": [],
   "source": [
    "sujeet=pwskills1('7021041478','sujeet.amberkar@gmail.com','200905092')"
   ]
  },
  {
   "cell_type": "code",
   "execution_count": 24,
   "id": "ae677dd2-0ad7-4d85-83af-078a71e5286f",
   "metadata": {},
   "outputs": [
    {
     "data": {
      "text/plain": [
       "('200905092', '7021041478', 'sujeet.amberkar@gmail.com')"
      ]
     },
     "execution_count": 24,
     "metadata": {},
     "output_type": "execute_result"
    }
   ],
   "source": [
    "sujeet.return_studentdetails()"
   ]
  },
  {
   "cell_type": "code",
   "execution_count": 26,
   "id": "789b84a7-5044-4d8a-9c6d-20647fef5575",
   "metadata": {},
   "outputs": [
    {
     "data": {
      "text/plain": [
       "'7021041478'"
      ]
     },
     "execution_count": 26,
     "metadata": {},
     "output_type": "execute_result"
    }
   ],
   "source": [
    "sujeet.phone_number1"
   ]
  },
  {
   "cell_type": "code",
   "execution_count": null,
   "id": "f4e28502-260c-4c3d-b226-697a4be6062f",
   "metadata": {},
   "outputs": [],
   "source": []
  }
 ],
 "metadata": {
  "kernelspec": {
   "display_name": "Python 3 (ipykernel)",
   "language": "python",
   "name": "python3"
  },
  "language_info": {
   "codemirror_mode": {
    "name": "ipython",
    "version": 3
   },
   "file_extension": ".py",
   "mimetype": "text/x-python",
   "name": "python",
   "nbconvert_exporter": "python",
   "pygments_lexer": "ipython3",
   "version": "3.10.8"
  }
 },
 "nbformat": 4,
 "nbformat_minor": 5
}
