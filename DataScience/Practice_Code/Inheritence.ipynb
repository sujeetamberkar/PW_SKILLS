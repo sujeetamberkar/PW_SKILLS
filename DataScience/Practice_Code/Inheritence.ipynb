{
 "cells": [
  {
   "cell_type": "code",
   "execution_count": 1,
   "id": "022390d5-2e56-42b0-a2a5-00064abd3dc2",
   "metadata": {},
   "outputs": [],
   "source": [
    "#########Inheritence############\n",
    "class test:\n",
    "    def test_meth(self):\n",
    "        return \"This is my first class\"\n"
   ]
  },
  {
   "cell_type": "code",
   "execution_count": 3,
   "id": "4c1fe2a1-9b21-4058-9bc7-705732c04308",
   "metadata": {},
   "outputs": [],
   "source": [
    "class child_test(test):\n",
    "    pass"
   ]
  },
  {
   "cell_type": "code",
   "execution_count": 4,
   "id": "2fe2aa09-7649-4b4d-ba72-89f4a0270176",
   "metadata": {},
   "outputs": [],
   "source": [
    "child_test_obj=child_test()"
   ]
  },
  {
   "cell_type": "code",
   "execution_count": 6,
   "id": "03f6030f-ac45-45f5-854c-f492d80760f7",
   "metadata": {},
   "outputs": [
    {
     "data": {
      "text/plain": [
       "'This is my first class'"
      ]
     },
     "execution_count": 6,
     "metadata": {},
     "output_type": "execute_result"
    }
   ],
   "source": [
    "child_test_obj.test_meth()"
   ]
  },
  {
   "cell_type": "code",
   "execution_count": 15,
   "id": "e1a72d1c-a013-47c6-a55f-55be049442ad",
   "metadata": {},
   "outputs": [],
   "source": [
    "################# Multilevel Inherietence#############\n",
    "class class1:\n",
    "    def test_class1(self):\n",
    "        return \"this is a method from class 1\""
   ]
  },
  {
   "cell_type": "code",
   "execution_count": 16,
   "id": "8e333535-2cb6-4787-bbbf-bce1ce3abc13",
   "metadata": {},
   "outputs": [],
   "source": [
    "class class2(class1):\n",
    "    def test_class2(self):\n",
    "        return \"This is a method from class 2\""
   ]
  },
  {
   "cell_type": "code",
   "execution_count": 17,
   "id": "e4b04fa3-18c8-432e-897d-ebc3e55be7d5",
   "metadata": {},
   "outputs": [],
   "source": [
    "class class3(class2):\n",
    "    pass"
   ]
  },
  {
   "cell_type": "code",
   "execution_count": 18,
   "id": "4f584604-2429-4f30-8c7c-3b99f6b01641",
   "metadata": {},
   "outputs": [],
   "source": [
    "obj_class3=class3()"
   ]
  },
  {
   "cell_type": "code",
   "execution_count": 19,
   "id": "5c901a30-f44a-4a79-8595-7ebe7c988e31",
   "metadata": {},
   "outputs": [
    {
     "data": {
      "text/plain": [
       "'this is a method from class 1'"
      ]
     },
     "execution_count": 19,
     "metadata": {},
     "output_type": "execute_result"
    }
   ],
   "source": [
    "obj_class3.test_class1()"
   ]
  },
  {
   "cell_type": "code",
   "execution_count": 14,
   "id": "92d9b554-2034-4d12-b866-915ccb01bf3d",
   "metadata": {},
   "outputs": [
    {
     "data": {
      "text/plain": [
       "'This is a method from class 2'"
      ]
     },
     "execution_count": 14,
     "metadata": {},
     "output_type": "execute_result"
    }
   ],
   "source": [
    "obj_class3.test_class2()"
   ]
  },
  {
   "cell_type": "code",
   "execution_count": 20,
   "id": "e5d0b2c3-bd6e-4761-8721-0db505f0ee52",
   "metadata": {},
   "outputs": [],
   "source": [
    "############# multiple inheritence############"
   ]
  },
  {
   "cell_type": "code",
   "execution_count": 21,
   "id": "379a3fe1-90ab-4287-a0d1-51e09087baa3",
   "metadata": {},
   "outputs": [],
   "source": [
    "class class1:\n",
    "    def test_class1(self):\n",
    "        return \"This is class1\""
   ]
  },
  {
   "cell_type": "code",
   "execution_count": 22,
   "id": "882d51fc-1e03-451b-8932-09d7d5a29100",
   "metadata": {},
   "outputs": [],
   "source": [
    "class class2:\n",
    "    def test_class2(self):\n",
    "        return \"This is class2\""
   ]
  },
  {
   "cell_type": "code",
   "execution_count": 23,
   "id": "9311953d-af1e-42af-88c7-ffcf95e75622",
   "metadata": {},
   "outputs": [],
   "source": [
    "class class3 (class1,class2):\n",
    "    def test_class3(self):\n",
    "        return \"This is class3\""
   ]
  },
  {
   "cell_type": "code",
   "execution_count": 24,
   "id": "932578be-116c-4143-87a6-5cc8bb227a67",
   "metadata": {},
   "outputs": [],
   "source": [
    "class3_obj=class3()"
   ]
  },
  {
   "cell_type": "code",
   "execution_count": 25,
   "id": "020a9976-f72d-4308-864b-5f9e580d32a6",
   "metadata": {},
   "outputs": [
    {
     "data": {
      "text/plain": [
       "'This is class1'"
      ]
     },
     "execution_count": 25,
     "metadata": {},
     "output_type": "execute_result"
    }
   ],
   "source": [
    "class3_obj.test_class1()"
   ]
  },
  {
   "cell_type": "code",
   "execution_count": 26,
   "id": "6067b108-b2da-4761-a42d-65acec06ca56",
   "metadata": {},
   "outputs": [
    {
     "data": {
      "text/plain": [
       "'This is class2'"
      ]
     },
     "execution_count": 26,
     "metadata": {},
     "output_type": "execute_result"
    }
   ],
   "source": [
    "class3_obj.test_class2()"
   ]
  },
  {
   "cell_type": "code",
   "execution_count": 27,
   "id": "93c16754-fa1d-43de-ad54-8402b2b9e6e0",
   "metadata": {},
   "outputs": [
    {
     "data": {
      "text/plain": [
       "'This is class3'"
      ]
     },
     "execution_count": 27,
     "metadata": {},
     "output_type": "execute_result"
    }
   ],
   "source": [
    "class3_obj.test_class3()"
   ]
  },
  {
   "cell_type": "code",
   "execution_count": null,
   "id": "f76eebf2-c8b8-4d2d-b95f-8428d45d481c",
   "metadata": {},
   "outputs": [],
   "source": []
  }
 ],
 "metadata": {
  "kernelspec": {
   "display_name": "Python 3 (ipykernel)",
   "language": "python",
   "name": "python3"
  },
  "language_info": {
   "codemirror_mode": {
    "name": "ipython",
    "version": 3
   },
   "file_extension": ".py",
   "mimetype": "text/x-python",
   "name": "python",
   "nbconvert_exporter": "python",
   "pygments_lexer": "ipython3",
   "version": "3.10.8"
  }
 },
 "nbformat": 4,
 "nbformat_minor": 5
}
