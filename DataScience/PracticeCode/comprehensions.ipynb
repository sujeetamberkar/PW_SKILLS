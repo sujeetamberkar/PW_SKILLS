{
 "cells": [
  {
   "cell_type": "code",
   "execution_count": 1,
   "id": "9c9021da-6ca9-4f39-893b-0fe7dc659e43",
   "metadata": {},
   "outputs": [],
   "source": [
    "li = [1,2,3,4,5,6,7,8,9]"
   ]
  },
  {
   "cell_type": "code",
   "execution_count": 3,
   "id": "f7521920-2b88-4a2b-95f9-4d4c2151febb",
   "metadata": {},
   "outputs": [
    {
     "data": {
      "text/plain": [
       "[1, 4, 9, 16, 25, 36, 49, 64, 81]"
      ]
     },
     "execution_count": 3,
     "metadata": {},
     "output_type": "execute_result"
    }
   ],
   "source": [
    "[i**2 for i in li ]"
   ]
  },
  {
   "cell_type": "code",
   "execution_count": 4,
   "id": "105e7d02-3a69-4f37-b660-3acb86f1b810",
   "metadata": {},
   "outputs": [
    {
     "name": "stdout",
     "output_type": "stream",
     "text": [
      "[1, 2, 3, 4, 5, 6, 7, 8, 9]\n"
     ]
    }
   ],
   "source": [
    "print(li)"
   ]
  },
  {
   "cell_type": "code",
   "execution_count": 9,
   "id": "41780d2e-e90d-4800-9459-5d986cd8cea0",
   "metadata": {},
   "outputs": [],
   "source": [
    "counter=0\n",
    "li=[i**2 for i in li ]"
   ]
  },
  {
   "cell_type": "code",
   "execution_count": 10,
   "id": "61b6115e-bd23-4265-842d-e641bb84737c",
   "metadata": {},
   "outputs": [
    {
     "name": "stdout",
     "output_type": "stream",
     "text": [
      "[1, 4, 9, 16, 25, 36, 49, 64, 81]\n"
     ]
    }
   ],
   "source": [
    "print(li)"
   ]
  },
  {
   "cell_type": "code",
   "execution_count": 17,
   "id": "5ffd303c-b95b-4bab-8be2-cfd91fd4489e",
   "metadata": {},
   "outputs": [
    {
     "name": "stdout",
     "output_type": "stream",
     "text": [
      "[4, 16, 36, 64]\n"
     ]
    }
   ],
   "source": [
    "li=[i for i in li if i%2 ==0]\n",
    "print(li)"
   ]
  },
  {
   "cell_type": "raw",
   "id": "3d158861-7718-41cb-8293-464c49ca04e0",
   "metadata": {},
   "source": [
    "listl2=[\"a\"]\n",
    "print(li)"
   ]
  },
  {
   "cell_type": "code",
   "execution_count": 20,
   "id": "95e4a7f1-aaeb-4f78-bb89-7db91f673ceb",
   "metadata": {},
   "outputs": [],
   "source": [
    "a=2"
   ]
  },
  {
   "cell_type": "code",
   "execution_count": 21,
   "id": "6a69d6f4-9cac-454a-8e18-a82be29e8ead",
   "metadata": {},
   "outputs": [
    {
     "name": "stdout",
     "output_type": "stream",
     "text": [
      "2\n"
     ]
    }
   ],
   "source": [
    "print(a)"
   ]
  },
  {
   "cell_type": "code",
   "execution_count": 26,
   "id": "fe339c82-1c25-4ef1-a9d7-6492bf7ca7bc",
   "metadata": {},
   "outputs": [
    {
     "data": {
      "text/plain": [
       "[2, 4, 6, 8, 10]"
      ]
     },
     "execution_count": 26,
     "metadata": {},
     "output_type": "execute_result"
    }
   ],
   "source": [
    "#Touple comprehension\n",
    "to=(1,2,3,4,5)\n",
    "list((i*2 for i in to))"
   ]
  },
  {
   "cell_type": "code",
   "execution_count": 37,
   "id": "9ba97b91-81ba-486e-8885-3faf43fc2680",
   "metadata": {},
   "outputs": [],
   "source": [
    "#Key Comprehension\n",
    "dict={'key1':1,'key2':2,'key3':3}\n",
    "dict={k:v*2 for k , v in dict.items()}"
   ]
  },
  {
   "cell_type": "code",
   "execution_count": 38,
   "id": "d1b6b456-01ec-4d90-9840-4bbd66c13bdb",
   "metadata": {},
   "outputs": [
    {
     "data": {
      "text/plain": [
       "{'key2': 4, 'key3': 6}"
      ]
     },
     "execution_count": 38,
     "metadata": {},
     "output_type": "execute_result"
    }
   ],
   "source": [
    "{k:v for k,v in dict.items() if v >2}  "
   ]
  },
  {
   "cell_type": "code",
   "execution_count": null,
   "id": "5e1e70f4-51fb-4ec1-bf73-f62fe67fbe7b",
   "metadata": {},
   "outputs": [],
   "source": []
  },
  {
   "cell_type": "code",
   "execution_count": null,
   "id": "c49e661f-3f44-433f-8baf-c7359dde81b1",
   "metadata": {},
   "outputs": [],
   "source": []
  }
 ],
 "metadata": {
  "kernelspec": {
   "display_name": "Python 3 (ipykernel)",
   "language": "python",
   "name": "python3"
  },
  "language_info": {
   "codemirror_mode": {
    "name": "ipython",
    "version": 3
   },
   "file_extension": ".py",
   "mimetype": "text/x-python",
   "name": "python",
   "nbconvert_exporter": "python",
   "pygments_lexer": "ipython3",
   "version": "3.10.8"
  }
 },
 "nbformat": 4,
 "nbformat_minor": 5
}
